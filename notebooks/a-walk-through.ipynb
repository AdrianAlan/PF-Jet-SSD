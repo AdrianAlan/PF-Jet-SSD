{
 "cells": [
  {
   "cell_type": "markdown",
   "metadata": {},
   "source": [
    "# Jet dataset: a walk-through"
   ]
  },
  {
   "cell_type": "markdown",
   "metadata": {},
   "source": [
    "The Large Hadron Collider (LHC) is pushing for higher energy of collisions. The current objective is to collect 10$\\times$ more data than in the initial design by around 2030. This urges the experiments to upgrade their infrastructure and implement more complex algorithms early in physics event selection process. We will exploit fast inference neural networks suitable for the implementation in the Compact Muon Solenoid (CMS) trigger system. Our case study is a jet detection task using tracker data and calorimeter energy deposits. This notebook provides a walk through basics on jets, trigger system and calorimeters. It gives a general overview of the dataset used by the algorithm and visualizes the training data."
   ]
  },
  {
   "cell_type": "code",
   "execution_count": null,
   "metadata": {},
   "outputs": [],
   "source": [
    "# Before starting import everything necessary\n",
    "import numpy as np\n",
    "import uproot3 as uproot\n",
    "import simplejson as json\n",
    "\n",
    "from uproot3_methods import TLorentzVectorArray"
   ]
  },
  {
   "cell_type": "code",
   "execution_count": null,
   "metadata": {},
   "outputs": [],
   "source": [
    "# Set presentation settings\n",
    "%matplotlib inline\n",
    "import matplotlib\n",
    "import matplotlib.pyplot as plt\n",
    "import matplotlib.patches as patches\n",
    "import matplotlib.ticker as tick\n",
    "\n",
    "from matplotlib import cm\n",
    "from matplotlib.colors import SymLogNorm\n",
    "from mpl_toolkits import mplot3d\n",
    "\n",
    "with open('../plots/palette.json') as json_file:\n",
    "    color_palette = json.load(json_file)\n",
    "plt.style.use('../plots/ssdjet.mplstyle')"
   ]
  },
  {
   "cell_type": "code",
   "execution_count": null,
   "metadata": {},
   "outputs": [],
   "source": [
    "# Set the source paths\n",
    "FILE_CONFIGURATION = '../data/file-configuration.json'\n",
    "SOURCE_PATH = '/eos/project/d/dshep/CEVA'\n",
    "EXAMPLE_FILE = 'RSGraviton_WW_NARROW_PU50_PF/RSGraviton_WW_NARROW_PU50_PF_0.root'"
   ]
  },
  {
   "cell_type": "markdown",
   "metadata": {},
   "source": [
    "## Jets\n",
    "\n",
    "A jet is a collimated spray of particles, it is used to probe the underlying elementary particle that initiates the cascade of particles."
   ]
  },
  {
   "cell_type": "code",
   "execution_count": null,
   "metadata": {},
   "outputs": [],
   "source": [
    "# Print available jet events\n",
    "with open(FILE_CONFIGURATION, 'r') as f:\n",
    "    config = json.loads(f.read())    \n",
    "\n",
    "for dataset in ['RSGraviton_HH_NARROW_PU50_PF',\n",
    "                'RSGraviton_WW_NARROW_PU50_PF',\n",
    "                'RSGraviton_ZZ_NARROW_PU50_PF',\n",
    "                'RSGraviton_bb_NARROW_PU50_PF',\n",
    "                'RSGraviton_gg_NARROW_PU50_PF',\n",
    "                'RSGraviton_qq_NARROW_PU50_PF',\n",
    "                'RSGraviton_tt_NARROW_PU50_PF']:\n",
    "    print('{0}: {1} events'.format(dataset, config['{0}/{1}'.format(SOURCE_PATH, dataset)]['events']))"
   ]
  },
  {
   "cell_type": "code",
   "execution_count": null,
   "metadata": {},
   "outputs": [],
   "source": [
    "# Define jet properties by class\n",
    "SETTINGS = {'t': {'id': 0, 'radius': 46, 'pid': [6], 'cut_m': [105., 210.]},\n",
    "            'V': {'id': 1, 'radius': 46, 'pid': [23, 24], 'cut_m': [65., 105.]},\n",
    "            'H': {'id': 2, 'radius': 46, 'pid': [25], 'cut_m': [105., 140.]}}"
   ]
  },
  {
   "cell_type": "markdown",
   "metadata": {},
   "source": [
    "## Calorimeters\n",
    "\n",
    "Calorimeters are devices that measure the energy of the long-lived particles. CMS has two types of calorimeters: electromagentic (ECAL) and hadron (HCAL). ECAL is responsible for measuring the energy of electrons and photons. Neutral particles (e.g. photons) are not visible in tracking devices but revealed by the energy deposit they leave in the calorimeters. ECAL is made of 76000 scintillating PbWO$_4$ crystals. HCAL measures the energy of long-lived charged and neutral hadrons. Hadrons begin to lose energy in ECAL only to be stopped in HCAL. The calorimeters have a finite segmentation in pseudo-rapidity $\\eta$ and azimuthal angle $\\phi$. The coordinate of the resulting calorimeter energy deposit, the tower, is computed as the geometrical centre of the cell."
   ]
  },
  {
   "cell_type": "code",
   "execution_count": null,
   "metadata": {},
   "outputs": [],
   "source": [
    "# Placement of non-zero towers in an example event\n",
    "file = uproot.open('%s/%s' % (SOURCE_PATH, EXAMPLE_FILE))\n",
    "print('Number of non-zero towers: {0}'.format(file['Delphes']['EFlowPhoton']['EFlowPhoton.ET'].array()[0].shape[0]))\n",
    "\n",
    "plt.xlabel('$\\eta$', horizontalalignment='right', x=1.0)\n",
    "plt.ylabel('$\\phi$', horizontalalignment='right', y=1.0)\n",
    "plt.scatter(file['Delphes']['EFlowPhoton']['EFlowPhoton.Eta'].array()[0],\n",
    "            file['Delphes']['EFlowPhoton']['EFlowPhoton.Phi'].array()[0],\n",
    "            color=color_palette['teal']['shade_900'],\n",
    "            marker='s', s=1);\n",
    "plt.title('Example event: Position of CMS ECAL towers (E$\\\\neq$0)')\n",
    "plt.show();"
   ]
  },
  {
   "cell_type": "markdown",
   "metadata": {},
   "source": [
    "## Trigger System\n",
    "\n",
    "Each LHC event corresponds to around 1 MB in unprocessed form. The LHC operates at the rate of 40 MHz. Thus, the LHC is one of the largest sources of data in the world. Trigger system selects only interesting events due to storage constrains. Trigger system is essentially a hierarchical set of algorithms:\n",
    "* The Level 1 (L1) Trigger, reduces the 40 MHz input to a 100 kHz rate. It is implemented on FPGAs and ASICs with approximately 3.2 $\\mu$s to decide.\n",
    "* High Level Trigger (HLT) scales the 100 kHz stream from L1 Trigger rate down to 1 kHz. It is a collision reconstruction software running on a computer farm of about one thousand commercial processors. The decision has to happen in approximately 100 ms.\n",
    "Jet triggers are primarly designed to study quantum chromodynamics (QCD), but also be used for many analysis, such as searches for new physics. We will use data from the central region of the CMS calorimetes -3 < $\\eta$ < +3. The regions |$\\eta$| >= 3 belong to forward calorimeter."
   ]
  },
  {
   "cell_type": "markdown",
   "metadata": {},
   "source": [
    "In order to transform calorimeter energy deposits to an image we need to define grid edges of the continues variables $\\phi$ and $\\eta$ to map them to pixel coorinates."
   ]
  },
  {
   "cell_type": "code",
   "execution_count": null,
   "metadata": {},
   "outputs": [],
   "source": [
    "# Define central region and jet data\n",
    "MIN_ETA, MAX_ETA = -3, +3\n",
    "\n",
    "# Grid edges\n",
    "def get_edges(edges_file, edge_index, sample_events=1000):\n",
    "    global_edges = np.array([], dtype=np.float32)\n",
    "    for i in range(sample_events):\n",
    "        global_edges = np.append(global_edges, edges_file[i][:,edge_index]) # Add left edge\n",
    "        global_edges = np.append(global_edges, edges_file[i][:,edge_index+1]) # Add right edge\n",
    "        global_edges = np.unique(global_edges)\n",
    "    return global_edges\n",
    "\n",
    "file = uproot.open('{0}/{1}'.format(SOURCE_PATH, EXAMPLE_FILE))\n",
    "towers = file['Delphes']['EFlowPhoton']['EFlowPhoton.Edges[4]'].array()\n",
    "\n",
    "edges_eta_ecal = get_edges(towers, edge_index=0)\n",
    "edges_eta_ecal = edges_eta_ecal[(edges_eta_ecal > MIN_ETA) &\n",
    "                                (edges_eta_ecal < MAX_ETA)]\n",
    "edges_phi_ecal = get_edges(towers, edge_index=2)"
   ]
  },
  {
   "cell_type": "markdown",
   "metadata": {},
   "source": [
    "## Generating Input Dataset"
   ]
  },
  {
   "cell_type": "markdown",
   "metadata": {},
   "source": [
    "Our dataset is generated with Delphes. The goal of Delphesis to allow the simulation of a multipurpose detector for phenomenological studies. The simulation includes a tracking system, embedded into a magnetic field, calorimeters and a muon system. Source: https://arxiv.org/abs/1307.6346"
   ]
  },
  {
   "cell_type": "code",
   "execution_count": null,
   "metadata": {},
   "outputs": [],
   "source": [
    "# Plotting calorimeter energy deposit image (3d / 2d view)\n",
    "\n",
    "def plot_calo_deposits(labels, data2d, data3d, label, scale='$E_T$ [GeV]'):\n",
    "    \n",
    "    offset = 15\n",
    "    \n",
    "    fig = plt.figure(figsize=(11.0, 5.0))\n",
    "    cmap = matplotlib.cm.magma\n",
    "\n",
    "    # 3D Plot Energy Deposit\n",
    "    ax = fig.add_subplot(1, 2, 1, projection='3d')\n",
    "    eta, phi, energy = data3d\n",
    "    colours = matplotlib.cm.magma(energy/np.log10(max(energy)))\n",
    "    width = depth = .1\n",
    "    ax.bar3d(eta,\n",
    "             phi,\n",
    "             np.zeros_like(energy),\n",
    "             width,\n",
    "             depth,\n",
    "             energy,\n",
    "             color=colours,\n",
    "             shade=True)\n",
    "    ax.set_xlabel(r'$\\eta$')\n",
    "    ax.set_ylabel(r'$\\phi$')\n",
    "    ax.set_zlabel(scale)\n",
    "    ax.view_init(10, 40);\n",
    "    \n",
    "    # 2D Plot Energy Deposit\n",
    "    ax = fig.add_subplot(1, 2, 2)\n",
    "\n",
    "    ax.set_title(label, loc='right')\n",
    "    ax.set_xlim([-offset, data2d.shape[0]+offset])\n",
    "    ax.set_xlabel(r'$\\eta$', horizontalalignment='right', x=1.0)\n",
    "    ax.set_ylim([-offset, data2d.shape[1]+offset])\n",
    "    ax.set_ylabel(r'$\\phi$', horizontalalignment='right', y=1.0)\n",
    "\n",
    "    im = ax.imshow(data2d.T,\n",
    "                   norm=SymLogNorm(linthresh=0.03,\n",
    "                                   vmin=0,\n",
    "                                   vmax=data2d.max()),\n",
    "                   interpolation='nearest',\n",
    "                   cmap=cmap)\n",
    "    \n",
    "    for label in labels:\n",
    "        jet = patches.Rectangle((label[1], label[2]),\n",
    "                                label[3]-label[1],\n",
    "                                label[4]-label[2],\n",
    "                                linewidth=2,\n",
    "                                edgecolor=color_palette['red']['shade_600'],\n",
    "                                facecolor='none')\n",
    "        ax.add_patch(jet)\n",
    "        ax.text(label[1],\n",
    "                 label[4],\n",
    "                 '{}: {:.0f} GeV/c'.format(list(SETTINGS.keys())[int(label[0])], label[5]),\n",
    "                 weight='bold',\n",
    "                 color='#FAFAFA',\n",
    "                 bbox={'facecolor': color_palette['red']['shade_900'], 'alpha': 1.0})\n",
    "\n",
    "    cbar = fig.colorbar(im, extend='max')\n",
    "    cbar.set_label(scale, rotation=90, horizontalalignment='right', y=1.0)\n",
    "\n",
    "    plt.show();\n"
   ]
  },
  {
   "cell_type": "code",
   "execution_count": null,
   "metadata": {},
   "outputs": [],
   "source": [
    "# Plotting calorimeter energy deposit image in color\n",
    "def calorimeter_image(labels, data2d, title, scale=None, save_name=None):\n",
    "    offset = 15\n",
    "    fig = plt.figure(figsize=(6.0, 3.0))\n",
    "    ax = plt.subplot(1, 1, 1)\n",
    "    ax.set_title(title, loc='right')\n",
    "    ax.set_xlim([-offset, 340+offset])\n",
    "    ax.set_xlabel(r'$\\eta$', horizontalalignment='right', x=1.0)\n",
    "    ax.set_ylim([-offset, 360+offset])\n",
    "    ax.set_ylabel(r'$\\phi$', horizontalalignment='right', y=1.0)\n",
    "    if scale:\n",
    "        cmap = matplotlib.cm.magma\n",
    "        im = ax.imshow(data2d.T,\n",
    "                   norm=SymLogNorm(linthresh=0.03,\n",
    "                                   vmin=0,\n",
    "                                   vmax=data2d.max()),\n",
    "                   interpolation='nearest',\n",
    "                   cmap=cmap)\n",
    "        cbar = fig.colorbar(im, extend='max')\n",
    "        cbar.set_label(scale, rotation=90, horizontalalignment='right', y=1.0)\n",
    "    else:\n",
    "        data2d = np.transpose(data2d, (2, 1, 0))\n",
    "        ax.imshow(data2d)\n",
    "\n",
    "    for label in labels:\n",
    "        jet = patches.Rectangle((label[1], label[2]),\n",
    "                                label[3]-label[1],\n",
    "                                label[4]-label[2],\n",
    "                                linewidth=0.5,\n",
    "                                edgecolor=color_palette['grey']['shade_50'],\n",
    "                                facecolor='none')\n",
    "        ax.add_patch(jet)\n",
    "        ax.text(label[1], label[4],\n",
    "                '{}: {:.0f} GeV/c'.format(list(SETTINGS.keys())[int(label[0])], label[-1]),\n",
    "                weight='bold',\n",
    "                color='#000000',\n",
    "                bbox={'facecolor': color_palette['grey']['shade_50'],\n",
    "                      'alpha': 1.0,\n",
    "                      'linewidth': 0.5})\n",
    "    plt.show();\n",
    "    \n",
    "    if save_name:\n",
    "        fig.savefig('../plots/{}'.format(save_name))"
   ]
  },
  {
   "cell_type": "code",
   "execution_count": null,
   "metadata": {},
   "outputs": [],
   "source": [
    "# Match calorimeter deposit with a pixel\n",
    "def get_energy_map(etas, phis, pts):\n",
    "    histogram, _, _ = np.histogram2d(etas, phis, bins=[edges_eta_ecal, edges_phi_ecal], weights=pts)\n",
    "    return histogram, np.argwhere(histogram)"
   ]
  },
  {
   "cell_type": "code",
   "execution_count": null,
   "metadata": {},
   "outputs": [],
   "source": [
    "# Method to process ground truth labels\n",
    "def get_labels(check_labels, status, pids, etas, phis, pts):\n",
    "    labels = np.empty((0, 6))\n",
    "    pids = np.abs(pids)\n",
    "    for label in check_labels:\n",
    "        jid = SETTINGS[label]['id']\n",
    "        pid = SETTINGS[label]['pid']\n",
    "        for e, p, pt, s in zip(etas[np.isin(pids, pid)],\n",
    "                               phis[np.isin(pids, pid)],\n",
    "                               pts[np.isin(pids, pid)],\n",
    "                               status[np.isin(pids, pid)]):\n",
    "            if s == 22:\n",
    "                e = np.argmax(edges_eta_ecal >= e) - 1\n",
    "                p = np.argmax(edges_phi_ecal >= p) - 1\n",
    "\n",
    "                xmin = int(e-SETTINGS[label]['radius']/2)\n",
    "                xmax = int(e+SETTINGS[label]['radius']/2)\n",
    "                ymin = int(p-SETTINGS[label]['radius']/2)\n",
    "                ymax = int(p+SETTINGS[label]['radius']/2)\n",
    "\n",
    "                labels = np.vstack((labels, [jid, xmin, ymin, xmax, ymax, pt]))\n",
    "    return labels"
   ]
  },
  {
   "cell_type": "code",
   "execution_count": null,
   "metadata": {},
   "outputs": [],
   "source": [
    "# Plot examples of input data\n",
    "\n",
    "def data_generator(file_path, no_events=1):\n",
    "\n",
    "    file = uproot.open(file_path)\n",
    "\n",
    "    # Gather pixel data\n",
    "    eFlowTrack = file['Delphes']['EFlowTrack']\n",
    "    eFlowPhoton = file['Delphes']['EFlowPhoton']\n",
    "    eFlowNeutralHadron = file['Delphes']['EFlowNeutralHadron']\n",
    "    \n",
    "    eFlowTrack_PT_full = eFlowTrack['EFlowTrack.PT'].array()\n",
    "    eFlowTrack_Eta_full = eFlowTrack['EFlowTrack.Eta'].array()\n",
    "    eFlowTrack_Phi_full = eFlowTrack['EFlowTrack.Phi'].array()\n",
    "    \n",
    "    eFlowPhoton_ET_full = eFlowPhoton['EFlowPhoton.ET'].array()\n",
    "    eFlowPhoton_Eta_full = eFlowPhoton['EFlowPhoton.Eta'].array()\n",
    "    eFlowPhoton_Phi_full = eFlowPhoton['EFlowPhoton.Phi'].array()\n",
    "\n",
    "    eFlowNeutralHadron_ET_full = eFlowNeutralHadron['EFlowNeutralHadron.ET'].array()\n",
    "    eFlowNeutralHadron_Eta_full = eFlowNeutralHadron['EFlowNeutralHadron.Eta'].array()\n",
    "    eFlowNeutralHadron_Phi_full = eFlowNeutralHadron['EFlowNeutralHadron.Phi'].array()\n",
    "\n",
    "    # Gather label data\n",
    "    particle = file['Delphes']['Particle']\n",
    "    particle_pid_full = particle['Particle.PID'].array()\n",
    "    particle_eta_full = particle['Particle.Eta'].array()\n",
    "    particle_phi_full = particle['Particle.Phi'].array()\n",
    "    particle_pt_full = particle['Particle.PT'].array()\n",
    "    particle_status_full = particle['Particle.Status'].array()\n",
    "    \n",
    "    # Baseline\n",
    "    jet = file['Delphes']['JetPUPPIAK8']\n",
    "    jet_SoftDroppedJets_full = jet['JetPUPPIAK8.SoftDroppedJet'].array()\n",
    "    jet_Taus_full = jet['JetPUPPIAK8.Tau[5]'].array()\n",
    "    jet_Etas_full = jet['JetPUPPIAK8.Eta'].array()\n",
    "    jet_Phis_full = jet['JetPUPPIAK8.Phi'].array()\n",
    "    jet_PT_full = jet['JetPUPPIAK8.PT'].array()\n",
    "\n",
    "    for event_number in np.arange(no_events, dtype=int):\n",
    "\n",
    "        # Get labels\n",
    "        particle_pid = particle_pid_full[event_number]\n",
    "        particle_eta = particle_eta_full[event_number]\n",
    "        particle_phi = particle_phi_full[event_number]\n",
    "        particle_pt = particle_pt_full[event_number]\n",
    "        particle_status = particle_status_full[event_number]\n",
    "\n",
    "        labels = get_labels(['t', 'H', 'V'],\n",
    "                            particle_status,\n",
    "                            particle_pid,\n",
    "                            particle_eta,\n",
    "                            particle_phi,\n",
    "                            particle_pt)\n",
    "\n",
    "        # Show EFlowTrack\n",
    "        pts = eFlowTrack_PT_full[event_number]\n",
    "        etas = eFlowTrack_Eta_full[event_number]\n",
    "        phis = eFlowTrack_Phi_full[event_number]\n",
    "        etas_mask = ((etas > edges_eta_ecal[0]) & (etas < edges_eta_ecal[-1]))\n",
    "        pts, etas, phis = pts[etas_mask], etas[etas_mask], phis[etas_mask]\n",
    "        pixels_t, _ = get_energy_map(etas, phis, pts)\n",
    "        plot_calo_deposits(labels, pixels_t, (etas, phis, pts),\n",
    "                           label='EFlowTrack $P_T$',\n",
    "                           scale='$P_T [GeV/c]$')\n",
    "        calorimeter_image(labels, pixels_t, 'EFlowTrack $P_T$', scale='$P_T [GeV/c]$', save_name='EFlowTrack')\n",
    "\n",
    "        # Show EFlowPhoton\n",
    "        ets = eFlowPhoton_ET_full[event_number]\n",
    "        etas = eFlowPhoton_Eta_full[event_number]\n",
    "        phis = eFlowPhoton_Phi_full[event_number]\n",
    "        etas_mask = ((etas > edges_eta_ecal[0]) & (etas < edges_eta_ecal[-1]))\n",
    "        ets, etas, phis = ets[etas_mask], etas[etas_mask], phis[etas_mask]\n",
    "        pixels_p, _ = get_energy_map(etas, phis, ets)\n",
    "        plot_calo_deposits(labels, pixels_p, (etas, phis, ets),\n",
    "                           label='EFlowPhoton $E_T$')\n",
    "        calorimeter_image(labels, pixels_p, 'EFlowPhoton $E_T$', scale='$E_T$ [GeV]', save_name='EFlowPhoton')\n",
    "\n",
    "        # Show EFlowNeutralHadron\n",
    "        ets = eFlowNeutralHadron_ET_full[event_number]\n",
    "        etas = eFlowNeutralHadron_Eta_full[event_number]\n",
    "        phis = eFlowNeutralHadron_Phi_full[event_number]\n",
    "        etas_mask = ((etas > edges_eta_ecal[0]) & (etas < edges_eta_ecal[-1]))\n",
    "        ets, etas, phis = ets[etas_mask], etas[etas_mask], phis[etas_mask]\n",
    "        pixels_h, _ = get_energy_map(etas, phis, ets)\n",
    "        plot_calo_deposits(labels, pixels_h, (etas, phis, ets),\n",
    "                           label='EFlowNeutralHadron $E_T$')\n",
    "        calorimeter_image(labels, pixels_h, 'EFlowNeutralHadron $E_T$', scale='$E_T$ [GeV]', save_name='EFlowNeutralHadron')\n",
    "\n",
    "        # Show Calorimeter in one picture\n",
    "        calo_pix = np.array([pixels_t, pixels_p, pixels_h])\n",
    "        calorimeter_image(labels, calo_pix, 'Example event in color', save_name='EventInColor')"
   ]
  },
  {
   "cell_type": "code",
   "execution_count": null,
   "metadata": {},
   "outputs": [],
   "source": [
    "dataset = 'RSGraviton_HH_NARROW_PU50_PF'\n",
    "print('An example of event from {0} dataset'.format(dataset))\n",
    "file_name = '{0}/{1}/{1}_0.root'.format(SOURCE_PATH, dataset)\n",
    "data_generator(file_name, 1)"
   ]
  },
  {
   "cell_type": "code",
   "execution_count": null,
   "metadata": {},
   "outputs": [],
   "source": []
  }
 ],
 "metadata": {
  "kernelspec": {
   "display_name": "Python 3",
   "language": "python",
   "name": "python3"
  },
  "language_info": {
   "codemirror_mode": {
    "name": "ipython",
    "version": 3
   },
   "file_extension": ".py",
   "mimetype": "text/x-python",
   "name": "python",
   "nbconvert_exporter": "python",
   "pygments_lexer": "ipython3",
   "version": "3.8.5"
  }
 },
 "nbformat": 4,
 "nbformat_minor": 2
}
