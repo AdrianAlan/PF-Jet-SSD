{
 "cells": [
  {
   "cell_type": "code",
   "execution_count": 1,
   "id": "fatal-matter",
   "metadata": {},
   "outputs": [
    {
     "name": "stdout",
     "output_type": "stream",
     "text": [
      "setGPU: Setting GPU to: 0\n"
     ]
    }
   ],
   "source": [
    "# Before starting import everything necessary\n",
    "import setGPU\n",
    "\n",
    "import numpy as np\n",
    "import os\n",
    "import simplejson as json\n",
    "import sys\n",
    "import torch\n",
    "import yaml\n",
    "\n",
    "module_path = os.path.abspath(os.path.join('..'))\n",
    "if module_path not in sys.path:\n",
    "    sys.path.append(module_path)\n",
    "\n",
    "from collections import Counter\n",
    "from ssd.net import build_ssd"
   ]
  },
  {
   "cell_type": "code",
   "execution_count": 2,
   "id": "corrected-western",
   "metadata": {},
   "outputs": [],
   "source": [
    "# Set presentation settings\n",
    "%matplotlib inline\n",
    "\n",
    "#import matplotlib\n",
    "import matplotlib.pyplot as plt\n",
    "\n",
    "with open('../plots/palette.json') as json_file:\n",
    "    color_palette = json.load(json_file)\n",
    "plt.style.use('../plots/ssdjet.mplstyle')"
   ]
  },
  {
   "cell_type": "code",
   "execution_count": 3,
   "id": "tropical-blues",
   "metadata": {},
   "outputs": [],
   "source": [
    "CONFIG_FILE = '../ssd-config.yml'\n",
    "MODEL = '../models/pfssd-tp.pth'\n",
    "\n",
    "config = yaml.safe_load(open(CONFIG_FILE))\n",
    "ssd_settings = config['ssd_settings']\n",
    "ssd_settings['n_classes'] += 1"
   ]
  },
  {
   "cell_type": "code",
   "execution_count": 4,
   "id": "developed-tokyo",
   "metadata": {},
   "outputs": [
    {
     "data": {
      "text/plain": [
       "SSD(\n",
       "  (vgg): ModuleList(\n",
       "    (0): Conv2d(3, 32, kernel_size=(3, 3), stride=(1, 1), padding=(1, 1), bias=False)\n",
       "    (1): BatchNorm2d(32, eps=1e-05, momentum=0.1, affine=True, track_running_stats=True)\n",
       "    (2): PReLU(num_parameters=32)\n",
       "    (3): Conv2d(32, 32, kernel_size=(3, 3), stride=(1, 1), padding=(1, 1), bias=False)\n",
       "    (4): BatchNorm2d(32, eps=1e-05, momentum=0.1, affine=True, track_running_stats=True)\n",
       "    (5): PReLU(num_parameters=32)\n",
       "    (6): AvgPool2d(kernel_size=2, stride=2, padding=1)\n",
       "    (7): Conv2d(32, 64, kernel_size=(3, 3), stride=(1, 1), padding=(1, 1), bias=False)\n",
       "    (8): BatchNorm2d(64, eps=1e-05, momentum=0.1, affine=True, track_running_stats=True)\n",
       "    (9): PReLU(num_parameters=64)\n",
       "    (10): Conv2d(64, 64, kernel_size=(3, 3), stride=(1, 1), padding=(1, 1), bias=False)\n",
       "    (11): BatchNorm2d(64, eps=1e-05, momentum=0.1, affine=True, track_running_stats=True)\n",
       "    (12): PReLU(num_parameters=64)\n",
       "    (13): AvgPool2d(kernel_size=2, stride=2, padding=1)\n",
       "    (14): Conv2d(64, 128, kernel_size=(3, 3), stride=(1, 1), padding=(1, 1), bias=False)\n",
       "    (15): BatchNorm2d(128, eps=1e-05, momentum=0.1, affine=True, track_running_stats=True)\n",
       "    (16): PReLU(num_parameters=128)\n",
       "    (17): Conv2d(128, 128, kernel_size=(3, 3), stride=(1, 1), padding=(1, 1), bias=False)\n",
       "    (18): BatchNorm2d(128, eps=1e-05, momentum=0.1, affine=True, track_running_stats=True)\n",
       "    (19): PReLU(num_parameters=128)\n",
       "    (20): Conv2d(128, 128, kernel_size=(3, 3), stride=(1, 1), padding=(1, 1), bias=False)\n",
       "    (21): BatchNorm2d(128, eps=1e-05, momentum=0.1, affine=True, track_running_stats=True)\n",
       "    (22): PReLU(num_parameters=128)\n",
       "    (23): AvgPool2d(kernel_size=2, stride=2, padding=1)\n",
       "    (24): Conv2d(128, 256, kernel_size=(3, 3), stride=(1, 1), padding=(1, 1), bias=False)\n",
       "    (25): BatchNorm2d(256, eps=1e-05, momentum=0.1, affine=True, track_running_stats=True)\n",
       "    (26): PReLU(num_parameters=256)\n",
       "    (27): Conv2d(256, 256, kernel_size=(3, 3), stride=(1, 1), padding=(1, 1), bias=False)\n",
       "    (28): BatchNorm2d(256, eps=1e-05, momentum=0.1, affine=True, track_running_stats=True)\n",
       "    (29): PReLU(num_parameters=256)\n",
       "    (30): Conv2d(256, 256, kernel_size=(3, 3), stride=(1, 1), padding=(1, 1), bias=False)\n",
       "    (31): BatchNorm2d(256, eps=1e-05, momentum=0.1, affine=True, track_running_stats=True)\n",
       "    (32): PReLU(num_parameters=256)\n",
       "  )\n",
       "  (loc): ModuleList(\n",
       "    (0): Conv2d(256, 2, kernel_size=(3, 3), stride=(1, 1), padding=(1, 1), bias=False)\n",
       "  )\n",
       "  (cnf): ModuleList(\n",
       "    (0): Conv2d(256, 4, kernel_size=(3, 3), stride=(1, 1), padding=(1, 1), bias=False)\n",
       "  )\n",
       "  (reg): ModuleList(\n",
       "    (0): Conv2d(256, 1, kernel_size=(3, 3), stride=(1, 1), padding=(1, 1), bias=False)\n",
       "  )\n",
       "  (l2norm_1): L2Norm()\n",
       "  (softmax): Softmax(dim=-1)\n",
       ")"
      ]
     },
     "execution_count": 4,
     "metadata": {},
     "output_type": "execute_result"
    }
   ],
   "source": [
    "torch.set_default_tensor_type('torch.cuda.FloatTensor')\n",
    "net = build_ssd(0, config['ssd_settings'], inference=True)\n",
    "net.load_weights(MODEL)\n",
    "net.eval()"
   ]
  },
  {
   "cell_type": "code",
   "execution_count": 5,
   "id": "single-myrtle",
   "metadata": {},
   "outputs": [],
   "source": [
    "vgg_filters = []\n",
    "for layer in net.vgg:\n",
    "    if type(layer) == torch.nn.modules.conv.Conv2d:\n",
    "        for kernel in layer.weight:\n",
    "            for filtr in kernel:\n",
    "                scale = torch.max(filtr)\n",
    "                if scale == 0.:\n",
    "                    scale = -torch.min(filtr)\n",
    "                if scale != 0.:\n",
    "                    filtr = filtr / scale\n",
    "                filtr = filtr.flatten() + 1\n",
    "                filtr = ''.join(['{:.0f}'.format(x) for x in filtr.tolist()])\n",
    "                vgg_filters.append(filtr)"
   ]
  },
  {
   "cell_type": "code",
   "execution_count": 6,
   "id": "linear-sphere",
   "metadata": {},
   "outputs": [],
   "source": [
    "out_filters = []\n",
    "for n in [net.loc, net.cnf, net.reg]:\n",
    "    for layer in n:\n",
    "        if type(layer) == torch.nn.modules.conv.Conv2d:\n",
    "            for kernel in layer.weight:\n",
    "                for filtr in kernel:\n",
    "                    scale = torch.max(filtr)\n",
    "                    if scale == 0.:\n",
    "                        scale = -torch.min(filtr)\n",
    "                    if scale != 0.:\n",
    "                        filtr = filtr / scale\n",
    "                    filtr = filtr.flatten() + 1\n",
    "                    filtr = ''.join(['{:.0f}'.format(x) for x in filtr.tolist()])\n",
    "                    out_filters.append(filtr)"
   ]
  },
  {
   "cell_type": "code",
   "execution_count": 7,
   "id": "piano-oregon",
   "metadata": {},
   "outputs": [
    {
     "data": {
      "image/png": "[encoded data removed]",
      "text/plain": [
       "<Figure size 840x630 with 17 Axes>"
      ]
     },
     "metadata": {
      "needs_background": "light"
     },
     "output_type": "display_data"
    }
   ],
   "source": [
    "fig, axs = plt.subplots(nrows=4, ncols=4)\n",
    "\n",
    "for f, ax in zip(Counter(vgg_filters).most_common(16), axs.flat):\n",
    "    f = [int(i)-1 for i in list(f[0])]\n",
    "    f = np.array(f).reshape(3,3)\n",
    "    \n",
    "    pcm = ax.imshow(f, vmin=-1, vmax=1, cmap='bwr')\n",
    "    ax.tick_params(labelleft=False, left=False, labelbottom=False, bottom=False)\n",
    "    ax.grid(False)\n",
    "    ax.spines['top'].set_visible(True)\n",
    "    ax.spines['right'].set_visible(True)\n",
    "\n",
    "fig.colorbar(pcm, ax=axs, orientation=\"horizontal\", pad=0.1, shrink=.3)\n",
    "plt.show()"
   ]
  },
  {
   "cell_type": "code",
   "execution_count": 8,
   "id": "heated-processing",
   "metadata": {},
   "outputs": [
    {
     "data": {
      "image/png": "[encoded data removed]",
      "text/plain": [
       "<Figure size 840x630 with 17 Axes>"
      ]
     },
     "metadata": {
      "needs_background": "light"
     },
     "output_type": "display_data"
    }
   ],
   "source": [
    "fig, axs = plt.subplots(nrows=4, ncols=4)\n",
    "\n",
    "for f, ax in zip(Counter(out_filters).most_common(16), axs.flat):\n",
    "    f = [int(i)-1 for i in list(f[0])]\n",
    "    f = np.array(f).reshape(3,3)\n",
    "\n",
    "    pcm = ax.imshow(f, vmin=-1, vmax=1, cmap='bwr', interpolation='nearest')\n",
    "    ax.tick_params(labelleft=False, left=False, labelbottom=False, bottom=False)\n",
    "    ax.grid(False)\n",
    "    ax.spines['top'].set_visible(True)\n",
    "    ax.spines['right'].set_visible(True)\n",
    "\n",
    "fig.colorbar(pcm, ax=axs, orientation=\"horizontal\", pad=0.1, shrink=.3)\n",
    "plt.show()"
   ]
  },
  {
   "cell_type": "code",
   "execution_count": null,
   "id": "contained-eclipse",
   "metadata": {},
   "outputs": [],
   "source": []
  }
 ],
 "metadata": {
  "kernelspec": {
   "display_name": "Python 3",
   "language": "python",
   "name": "python3"
  },
  "language_info": {
   "codemirror_mode": {
    "name": "ipython",
    "version": 3
   },
   "file_extension": ".py",
   "mimetype": "text/x-python",
   "name": "python",
   "nbconvert_exporter": "python",
   "pygments_lexer": "ipython3",
   "version": "3.8.5"
  }
 },
 "nbformat": 4,
 "nbformat_minor": 5
}
