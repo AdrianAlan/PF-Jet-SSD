{
 "cells": [
  {
   "cell_type": "code",
   "execution_count": 1,
   "id": "f9b4f756",
   "metadata": {},
   "outputs": [],
   "source": [
    "# Before starting import everything necessary\n",
    "import numpy as np\n",
    "import os\n",
    "import simplejson as json\n",
    "import sys\n",
    "import torch\n",
    "import yaml\n",
    "\n",
    "module_path = os.path.abspath(os.path.join('..'))\n",
    "if module_path not in sys.path:\n",
    "    sys.path.append(module_path)\n",
    "\n",
    "from collections import Counter\n",
    "from ssd.net import build_ssd"
   ]
  },
  {
   "cell_type": "code",
   "execution_count": 2,
   "id": "03f93cbc",
   "metadata": {},
   "outputs": [],
   "source": [
    "# Set presentation settings\n",
    "%matplotlib inline\n",
    "\n",
    "import matplotlib\n",
    "import matplotlib.pyplot as plt\n",
    "\n",
    "with open('../plots/palette.json') as json_file:\n",
    "    color_palette = json.load(json_file)\n",
    "plt.style.use('../plots/ssdjet.mplstyle')"
   ]
  },
  {
   "cell_type": "code",
   "execution_count": 3,
   "id": "917b6434",
   "metadata": {},
   "outputs": [],
   "source": [
    "# Load configuration\n",
    "CONFIG_FILE = '../ssd-config.yml'\n",
    "MODEL = '../models/PF-Jet-SSD-tp.pth'\n",
    "\n",
    "config = yaml.safe_load(open(CONFIG_FILE))\n",
    "ssd_settings = config['ssd_settings']\n",
    "ssd_settings['n_classes'] += 1"
   ]
  },
  {
   "cell_type": "code",
   "execution_count": 4,
   "id": "30f2b26e",
   "metadata": {},
   "outputs": [],
   "source": [
    "# Initiate SSD and load weights\n",
    "torch.set_default_tensor_type('torch.cuda.FloatTensor')\n",
    "net = build_ssd(0, config['ssd_settings'], inference=True)\n",
    "if net.load_weights(MODEL):\n",
    "    net.eval();"
   ]
  },
  {
   "cell_type": "code",
   "execution_count": 5,
   "id": "eefdfb4d",
   "metadata": {},
   "outputs": [],
   "source": [
    "# Loop through the layers and collect data\n",
    "w_zero, w_all = 0, 0\n",
    "filters3x3 = []\n",
    "\n",
    "for i, module in enumerate(net.mobilenet):\n",
    "    # Skip the first layer, pooling and activation\n",
    "    if i == 0 or type(module) in [torch.nn.modules.AvgPool2d,\n",
    "                                  torch.nn.modules.activation.PReLU]:\n",
    "        continue\n",
    "\n",
    "    # Add all 3x3 filters to the array\n",
    "    for layer in module:\n",
    "        if type(layer) == torch.nn.modules.conv.Conv2d:\n",
    "            for kernel in layer.weight:\n",
    "                if kernel.size() == torch.Size([1, 3, 3]):\n",
    "                    for fltr in kernel:\n",
    "                        w_all += 9\n",
    "                        w_zero += 9 - torch.count_nonzero(fltr)\n",
    "                        scale = torch.max(torch.max(fltr), torch.abs(torch.min(fltr)))\n",
    "                        if scale != 0.:\n",
    "                            fltr = fltr / scale\n",
    "                        fltr = fltr.flatten() + 1\n",
    "                        fltr = ''.join(['{:.0f}'.format(x) for x in fltr.tolist()])\n",
    "                        filters3x3.append(fltr)"
   ]
  },
  {
   "cell_type": "code",
   "execution_count": 6,
   "id": "a16056d8",
   "metadata": {},
   "outputs": [
    {
     "data": {
      "image/png": "[encoded data removed]",
      "text/plain": [
       "<Figure size 432x288 with 37 Axes>"
      ]
     },
     "metadata": {
      "needs_background": "light"
     },
     "output_type": "display_data"
    },
    {
     "name": "stdout",
     "output_type": "stream",
     "text": [
      "Network sparsity: 46.51%\n"
     ]
    }
   ],
   "source": [
    "# Show \n",
    "fig, axs = plt.subplots(nrows=6, ncols=6)\n",
    "\n",
    "for f, ax in zip(Counter(filters3x3).most_common(36), axs.flat):\n",
    "    f = [int(i)-1 for i in list(f[0])]\n",
    "    f = np.array(f).reshape(3,3)\n",
    "    \n",
    "    pcm = ax.imshow(f, vmin=-1, vmax=1, cmap='bwr')\n",
    "    ax.tick_params(labelleft=False, left=False, labelbottom=False, bottom=False)\n",
    "    ax.grid(False)\n",
    "    \n",
    "    ax.spines['top'].set_visible(True)\n",
    "    ax.spines['right'].set_visible(True)\n",
    "    ax.tick_params(axis=\"both\", which='both', top=False, bottom=False)\n",
    "\n",
    "fig.colorbar(pcm, ax=axs, orientation=\"horizontal\", pad=0.1, shrink=.3)\n",
    "\n",
    "fig.savefig('../plots/filters')\n",
    "plt.show()\n",
    "print(\"Network sparsity: {:.2f}%\".format(100 * w_zero / w_all))"
   ]
  },
  {
   "cell_type": "code",
   "execution_count": null,
   "id": "fe156aa5",
   "metadata": {},
   "outputs": [],
   "source": []
  }
 ],
 "metadata": {
  "kernelspec": {
   "display_name": "Python 3",
   "language": "python",
   "name": "python3"
  },
  "language_info": {
   "codemirror_mode": {
    "name": "ipython",
    "version": 3
   },
   "file_extension": ".py",
   "mimetype": "text/x-python",
   "name": "python",
   "nbconvert_exporter": "python",
   "pygments_lexer": "ipython3",
   "version": "3.6.13"
  }
 },
 "nbformat": 4,
 "nbformat_minor": 5
}
