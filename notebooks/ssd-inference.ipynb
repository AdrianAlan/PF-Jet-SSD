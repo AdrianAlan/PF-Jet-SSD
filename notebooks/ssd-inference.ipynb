{
 "cells": [
  {
   "cell_type": "code",
   "execution_count": null,
   "metadata": {},
   "outputs": [],
   "source": [
    "# Before starting import everything necessary\n",
    "import numpy as np\n",
    "import os\n",
    "import simplejson as json\n",
    "import sys\n",
    "import torch\n",
    "import yaml\n",
    "\n",
    "module_path = os.path.abspath(os.path.join('..'))\n",
    "if module_path not in sys.path:\n",
    "    sys.path.append(module_path)\n",
    "\n",
    "from ssd.net import build_ssd\n",
    "from utils import get_data_loader"
   ]
  },
  {
   "cell_type": "code",
   "execution_count": null,
   "metadata": {},
   "outputs": [],
   "source": [
    "# Set presentation settings\n",
    "%matplotlib inline\n",
    "\n",
    "import matplotlib\n",
    "import matplotlib.pyplot as plt\n",
    "import matplotlib.patches as patches\n",
    "\n",
    "with open('../plots/palette.json') as json_file:\n",
    "    color_palette = json.load(json_file)\n",
    "plt.style.use('../plots/ssdjet.mplstyle')"
   ]
  },
  {
   "cell_type": "code",
   "execution_count": null,
   "metadata": {},
   "outputs": [],
   "source": [
    "THRESHOLD = 0.2\n",
    "\n",
    "# Load configuration\n",
    "CONFIG_FILE = '../ssd-config.yml'\n",
    "NET_CONFIG_FILE = '../net-config-last.yml'\n",
    "MODEL = '../models/PF-Jet-SSD-tw.pth'\n",
    "\n",
    "config = yaml.safe_load(open(CONFIG_FILE))\n",
    "net_config = yaml.safe_load(open(NET_CONFIG_FILE))\n",
    "\n",
    "ssd_settings = config['ssd_settings']\n",
    "ssd_settings['n_classes'] += 1\n",
    "net_channels = net_config['network_channels']"
   ]
  },
  {
   "cell_type": "code",
   "execution_count": null,
   "metadata": {},
   "outputs": [],
   "source": [
    "# Initiate SSD and load weights\n",
    "torch.set_default_tensor_type('torch.cuda.FloatTensor')\n",
    "net = build_ssd(0, config['ssd_settings'], net_channels, inference=True)\n",
    "if net.load_weights(MODEL):\n",
    "    net.eval();"
   ]
  },
  {
   "cell_type": "code",
   "execution_count": null,
   "metadata": {},
   "outputs": [],
   "source": [
    "# Plotting calorimeter energy deposit image in color\n",
    "def calorimeter_image(labels, baselines, data2d, titles=[]):\n",
    "    offset = 15\n",
    "    fig = plt.figure(figsize=(6.0, 3.0))\n",
    "    for i, (label, title, c) in enumerate(zip([labels, baselines], titles, [color_palette['grey']['shade_50'], color_palette['red']['shade_600']])):\n",
    "        ax = plt.subplot(1, 2, i+1)\n",
    "        ax.set_title(title, loc='right')\n",
    "        ax.set_xlim([-offset, 340+offset])\n",
    "        ax.set_xlabel(r'$\\eta$', horizontalalignment='right', x=1.0)\n",
    "        ax.set_ylim([-offset, 360+offset])\n",
    "        ax.set_ylabel(r'$\\phi$', horizontalalignment='right', y=1.0)\n",
    "        ax.imshow(data2d)\n",
    "\n",
    "        for l in label:\n",
    "            jet = patches.Rectangle((l[0]*340, l[1]*360),\n",
    "                                    (l[2]-l[0])*340,\n",
    "                                    (l[3]-l[1])*360,\n",
    "                                    linewidth=0.5,\n",
    "                                    edgecolor=c,\n",
    "                                    facecolor='none')\n",
    "            ax.add_patch(jet)\n",
    "            ax.text(l[0]*340, l[3]*360,\n",
    "                    config['evaluation_pref']['names_classes'][int(l[-2])-1],\n",
    "                weight='bold',\n",
    "                color='#000000',\n",
    "                bbox={'facecolor': c,\n",
    "                      'alpha': 1.0,\n",
    "                      'linewidth': 0.5})\n",
    "    plt.savefig('../plots/Inference-Example')\n",
    "    plt.show();"
   ]
  },
  {
   "cell_type": "code",
   "execution_count": null,
   "metadata": {},
   "outputs": [],
   "source": [
    "loader = get_data_loader(config['dataset']['test'][0],\n",
    "                         1,\n",
    "                         0,\n",
    "                         ssd_settings['input_dimensions'],\n",
    "                         ssd_settings['object_size'],\n",
    "                         return_pt=True,\n",
    "                         shuffle=True)"
   ]
  },
  {
   "cell_type": "code",
   "execution_count": null,
   "metadata": {},
   "outputs": [],
   "source": [
    "for image, target in loader:\n",
    "    with torch.no_grad():\n",
    "        detections = net(image).data.cpu().numpy()\n",
    "        predictions = np.empty((0, 6))\n",
    "\n",
    "        for cl, det in enumerate(detections[0]):\n",
    "            columns = det.shape[1]\n",
    "            mask = det[:, 0] >= THRESHOLD\n",
    "            det = det.flatten()[np.repeat(mask, columns)]\n",
    "            if len(det):\n",
    "                det = det.reshape(-1, columns)\n",
    "                cls = np.transpose(np.expand_dims(np.repeat(cl-1, det.shape[0]), 0))\n",
    "                det = np.hstack((det[:, 1:5], cls+1, det[:, [0]]))\n",
    "                predictions = np.vstack([predictions, det])\n",
    "    \n",
    "    calorimeter_image(\n",
    "        np.array(target[0].cpu().numpy()),\n",
    "        predictions,\n",
    "        np.transpose(image[0].cpu().numpy(), (2,1,0)),\n",
    "        ['Truth', 'Prediction']\n",
    "    )\n",
    "    \n",
    "    break"
   ]
  }
 ],
 "metadata": {
  "anaconda-cloud": {},
  "kernelspec": {
   "display_name": "Python 3",
   "language": "python",
   "name": "python3"
  },
  "language_info": {
   "codemirror_mode": {
    "name": "ipython",
    "version": 3
   },
   "file_extension": ".py",
   "mimetype": "text/x-python",
   "name": "python",
   "nbconvert_exporter": "python",
   "pygments_lexer": "ipython3",
   "version": "3.8.5"
  }
 },
 "nbformat": 4,
 "nbformat_minor": 1
}
