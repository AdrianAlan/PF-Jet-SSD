{
 "cells": [
  {
   "cell_type": "markdown",
   "metadata": {},
   "source": [
    "# # SSD Jet Detection Inference "
   ]
  },
  {
   "cell_type": "code",
   "execution_count": 1,
   "metadata": {},
   "outputs": [
    {
     "name": "stdout",
     "output_type": "stream",
     "text": [
      "setGPU: Setting GPU to: 1\n"
     ]
    }
   ],
   "source": [
    "# Import GPU libs\n",
    "\n",
    "import setGPU\n",
    "import warnings\n",
    "\n",
    "warnings.simplefilter(action='ignore', category=FutureWarning)"
   ]
  },
  {
   "cell_type": "code",
   "execution_count": 2,
   "metadata": {},
   "outputs": [],
   "source": [
    "# Other imports\n",
    "\n",
    "import numpy as np\n",
    "import simplejson as json"
   ]
  },
  {
   "cell_type": "code",
   "execution_count": 3,
   "metadata": {},
   "outputs": [],
   "source": [
    "# Set presentation settings\n",
    "\n",
    "import matplotlib\n",
    "import matplotlib.pyplot as plt\n",
    "import matplotlib.patches as patches\n",
    "import matplotlib.ticker as tick\n",
    "\n",
    "from matplotlib import cm\n",
    "from matplotlib.colors import SymLogNorm\n",
    "from mpl_toolkits import mplot3d\n",
    "\n",
    "%matplotlib inline\n",
    "\n",
    "matplotlib.rcParams[\"figure.figsize\"] = (16.0, 6.0)\n",
    "\n",
    "matplotlib.rcParams['font.family'] = 'sans-serif'\n",
    "matplotlib.rcParams['font.sans-serif'] = ['Anonymous Pro for Powerline']\n",
    "\n",
    "matplotlib.rcParams[\"axes.spines.left\"] = True\n",
    "matplotlib.rcParams[\"axes.spines.top\"] = True\n",
    "matplotlib.rcParams[\"axes.spines.right\"] = True\n",
    "matplotlib.rcParams[\"axes.spines.bottom\"] = True\n",
    "matplotlib.rcParams[\"axes.labelsize\"] = 16\n",
    "matplotlib.rcParams[\"axes.titlesize\"] = 14\n",
    "\n",
    "matplotlib.rcParams[\"xtick.top\"] = True\n",
    "matplotlib.rcParams[\"ytick.right\"] = True\n",
    "matplotlib.rcParams[\"xtick.direction\"] = \"in\"\n",
    "matplotlib.rcParams[\"ytick.direction\"] = \"in\"\n",
    "matplotlib.rcParams[\"xtick.labelsize\"] = 10\n",
    "matplotlib.rcParams[\"ytick.labelsize\"] = 10\n",
    "matplotlib.rcParams[\"xtick.major.size\"] = 10\n",
    "matplotlib.rcParams[\"ytick.major.size\"] = 10\n",
    "matplotlib.rcParams[\"xtick.minor.size\"] = 5\n",
    "matplotlib.rcParams[\"ytick.minor.size\"] = 5\n",
    "matplotlib.rcParams[\"xtick.minor.visible\"] = True\n",
    "\n",
    "matplotlib.rcParams[\"lines.linewidth\"] = 2\n",
    "\n",
    "matplotlib.rcParams[\"legend.fontsize\"] = 14\n",
    "\n",
    "with open('../data/palette.json') as json_file:\n",
    "    color_palette = json.load(json_file)\n",
    "    \n",
    "colors = [color_palette['lightBlue']['shade_300'],\n",
    "          color_palette['lime']['shade_300'],\n",
    "          color_palette['purple']['shade_300'],\n",
    "          color_palette['teal']['shade_300'],\n",
    "          color_palette['grey']['shade_300']]"
   ]
  },
  {
   "cell_type": "code",
   "execution_count": 4,
   "metadata": {},
   "outputs": [],
   "source": [
    "import tensorflow as tf\n",
    "import os\n",
    "\n",
    "os.environ['TF_CPP_MIN_LOG_LEVEL'] = '3' \n",
    "tf.compat.v1.logging.set_verbosity(tf.compat.v1.logging.ERROR)"
   ]
  },
  {
   "cell_type": "code",
   "execution_count": 5,
   "metadata": {},
   "outputs": [
    {
     "name": "stderr",
     "output_type": "stream",
     "text": [
      "Using TensorFlow backend.\n"
     ]
    }
   ],
   "source": [
    "from keras import backend as K\n",
    "from keras.models import load_model"
   ]
  },
  {
   "cell_type": "code",
   "execution_count": 6,
   "metadata": {},
   "outputs": [],
   "source": [
    "from ssd.generator import DataGenerator\n",
    "from ssd.keras_ssd7 import build_model\n",
    "from ssd.ssd_output_decoder import decode_detections"
   ]
  },
  {
   "cell_type": "code",
   "execution_count": 7,
   "metadata": {},
   "outputs": [],
   "source": [
    "# Model configuration parameters\n",
    "\n",
    "SAVE_PATH = '/data/adpol'\n",
    "MODEL_NAME = 'ceva-cms-jet-ssd'\n",
    "DATA_SOURCE = '/eos/user/a/adpol/ceva'\n",
    "SPLIT = [0.1, 0.1, 0.1]\n",
    "MAX_EVENTS = 100\n",
    "NUMBER_OF_PREDICTIONS = 1\n",
    "\n",
    "classes = ['background', 'b', 'h', 'W', 't', 'q']\n",
    "\n",
    "img_height = 452 # Pixel height\n",
    "img_width = 340 # Pixel width\n",
    "img_channels = 1 # Number of channels\n",
    "n_classes = 4 # Number of target classes\n",
    "\n",
    "# Set this to your preference (maybe `None`). The current settings transform the input pixel values to the interval `[-1,1]`.\n",
    "intensity_mean = None \n",
    "intensity_range = None\n",
    "\n",
    "# An explicit list of anchor box scaling factors. If this is passed, it will override `min_scale` and `max_scale`.\n",
    "scales = [0.16, 0.4, 0.6, 0.8, 0.96]\n",
    "# The list of aspect ratios for the anchor boxes\n",
    "aspect_ratios = [1.0]\n",
    "two_boxes_for_ar1 = True # Whether or not you want to generate two anchor boxes for aspect ratio 1\n",
    "steps = None # In case you'd like to set the step sizes for the anchor box grids manually; not recommended\n",
    "offsets = None # In case you'd like to set the offsets for the anchor box grids manually; not recommended\n",
    "clip_boxes = True # Whether or not to clip the anchor boxes to lie entirely within the image boundaries\n",
    "variances = [1.0, 1.0, 1.0, 1.0] # The list of variances by which the encoded target coordinates are scaled\n",
    "normalize_coords = True # Whether or not the model is supposed to use coordinates relative to the image size"
   ]
  },
  {
   "cell_type": "code",
   "execution_count": 8,
   "metadata": {},
   "outputs": [],
   "source": [
    "# Compile the model\n",
    "\n",
    "K.clear_session()\n",
    "\n",
    "model = build_model(image_size=(img_height, img_width, img_channels),\n",
    "                    n_classes=n_classes,\n",
    "                    mode='inference',\n",
    "                    l2_regularization=0.0005,\n",
    "                    scales=scales,\n",
    "                    aspect_ratios_global=aspect_ratios,\n",
    "                    aspect_ratios_per_layer=None,\n",
    "                    two_boxes_for_ar1=two_boxes_for_ar1,\n",
    "                    steps=steps,\n",
    "                    offsets=offsets,\n",
    "                    clip_boxes=clip_boxes,\n",
    "                    variances=variances,\n",
    "                    normalize_coords=normalize_coords,\n",
    "                    subtract_mean=intensity_mean,\n",
    "                    divide_by_stddev=intensity_range,\n",
    "                    confidence_thresh=0.7,\n",
    "                    iou_threshold=0.5,\n",
    "                    top_k=10)\n",
    "\n",
    "# Load model\n",
    "model.load_weights('%s/%s.h5' % (SAVE_PATH, MODEL_NAME), by_name=True)"
   ]
  },
  {
   "cell_type": "code",
   "execution_count": 9,
   "metadata": {},
   "outputs": [],
   "source": [
    "# Testing data generator\n",
    "\n",
    "hdf5_dataset_paths_list = []\n",
    "\n",
    "for i in np.arange(10*SPLIT[0], 10*(SPLIT[0]+SPLIT[1]), dtype=np.int16):\n",
    "    for j in ['bb', 'tt', 'WW', 'hh']:\n",
    "        hdf5_dataset_paths_list.append('%s/RSGraviton_%s_NARROW_%s.h5' % (DATA_SOURCE, j, i))\n",
    "        \n",
    "val_dataset = DataGenerator(hdf5_dataset_paths=hdf5_dataset_paths_list, max_size=MAX_EVENTS)"
   ]
  },
  {
   "cell_type": "code",
   "execution_count": 10,
   "metadata": {},
   "outputs": [],
   "source": [
    "def plot_calo_image(pixels, batch_labels, y_pred_decoded):\n",
    "                    \n",
    "    fig = plt.figure(figsize=(16, 6))\n",
    "    ax1 = plt.subplot(121)\n",
    "\n",
    "    cmap = matplotlib.cm.viridis\n",
    "\n",
    "    # Plot calorimeter Pt and jets\n",
    "    ax1 = plt.gca()\n",
    "    ax1.set_xlim([-15, 356])\n",
    "    ax1.set_xlabel('$\\eta$', horizontalalignment='right', x=1.0)\n",
    "\n",
    "    def x_axis_formatter(x, y):\n",
    "        x = x - 46\n",
    "        if x < 0:\n",
    "            x = x + 360\n",
    "        if x > 360:\n",
    "            x = x - 360\n",
    "        return int(x)\n",
    "\n",
    "    ax1.yaxis.set_major_formatter(tick.FuncFormatter(x_axis_formatter))\n",
    "    ax1.set_ylim([-15, 375+2*46])\n",
    "    ax1.set_ylabel('$\\phi [\\degree$]', horizontalalignment='right', y=1.0)\n",
    "\n",
    "    # Show energy deposits\n",
    "    im = ax1.imshow(pixels,\n",
    "                    norm=SymLogNorm(linthresh=0.03,\n",
    "                                    vmin=0,\n",
    "                                    vmax=pixels.max()),\n",
    "                    interpolation=\"nearest\",\n",
    "                    cmap=cmap)\n",
    "    \n",
    "    # Add scale\n",
    "    cbar = fig.colorbar(im, extend='max')\n",
    "    cbar.set_label('$E_T$ [GeV]', rotation=90, horizontalalignment='right', y=1.0)\n",
    "    \n",
    "    # Add ground truth\n",
    "    for box in batch_labels[i]:\n",
    "        xmin = box[1]\n",
    "        ymin = box[2]\n",
    "        xmax = box[3]\n",
    "        ymax = box[4]\n",
    "        \n",
    "        print()\n",
    "        \n",
    "        jet = patches.Rectangle((xmin, ymin),\n",
    "                                xmax-xmin,\n",
    "                                ymax-ymin,\n",
    "                                linewidth=2,\n",
    "                                alpha=0.7,\n",
    "                                edgecolor=color_palette['red']['shade_600'],\n",
    "                                facecolor='none')\n",
    "        ax1.add_patch(jet)\n",
    "        ax1.text(xmin,\n",
    "                 ymin,\n",
    "                 '{}'.format(classes[int(box[0])]),\n",
    "                 weight='bold',\n",
    "                 color=color_palette['grey']['shade_100'],\n",
    "                 bbox={'facecolor': color_palette['red']['shade_900'], 'alpha': 1.0})\n",
    "\n",
    "    # Draw the predicted boxes\n",
    "    for box in y_pred_decoded[i]:\n",
    "        xmin = box[-4]\n",
    "        ymin = box[-3]\n",
    "        xmax = box[-2]\n",
    "        ymax = box[-1]\n",
    "        color = colors[int(box[0])]\n",
    "        \n",
    "        jet = plt.Rectangle((xmin, ymin),\n",
    "                            xmax-xmin,\n",
    "                            ymax-ymin,\n",
    "                            edgecolor=color,\n",
    "                            alpha=0.7,\n",
    "                            facecolor='none',\n",
    "                            linewidth=2)\n",
    "\n",
    "        ax1.add_patch(jet)\n",
    "        ax1.text(xmin,\n",
    "                 ymin,\n",
    "                 '{}: {:.2f}'.format(classes[int(box[0])], box[1]),\n",
    "                 weight='bold',\n",
    "                 color='#FAFAFA',\n",
    "                 bbox={'facecolor': color, 'alpha': 1.0})\n",
    "\n",
    "    # Add CMS tag\n",
    "    ax1.text(0,\n",
    "             1.04,\n",
    "             \"CMS\",\n",
    "             weight='bold',\n",
    "             verticalalignment=\"top\",\n",
    "             horizontalalignment=\"left\",\n",
    "             transform=ax1.transAxes,\n",
    "             color=\"black\",\n",
    "             fontsize=16)\n",
    "\n",
    "    # Add title\n",
    "    ax1.set_title('ECAL $E_T$', loc=\"right\")\n",
    "\n",
    "    # Show plot\n",
    "    plt.show();"
   ]
  },
  {
   "cell_type": "code",
   "execution_count": 11,
   "metadata": {},
   "outputs": [],
   "source": [
    "# Predictions generator\n",
    "\n",
    "predict_generator = val_dataset.generate(batch_size=NUMBER_OF_PREDICTIONS,\n",
    "                                         shuffle=True,\n",
    "                                         label_encoder=None,\n",
    "                                         returns={'processed_images',\n",
    "                                                  'processed_labels'})"
   ]
  },
  {
   "cell_type": "code",
   "execution_count": 12,
   "metadata": {},
   "outputs": [
    {
     "name": "stdout",
     "output_type": "stream",
     "text": [
      "\n",
      "\n"
     ]
    },
    {
     "data": {
      "image/png": "[encoded data removed]",
      "text/plain": [
       "<Figure size 1152x432 with 2 Axes>"
      ]
     },
     "metadata": {
      "needs_background": "light"
     },
     "output_type": "display_data"
    }
   ],
   "source": [
    "# Make predictions\n",
    "\n",
    "for i in np.arange(NUMBER_OF_PREDICTIONS):\n",
    "    batch_images, batch_labels = next(predict_generator)\n",
    "    y_pred = model.predict(batch_images)\n",
    "    calorimeter = batch_images[i].reshape(img_height, img_width)\n",
    "    plot_calo_image(calorimeter, batch_labels, y_pred)"
   ]
  },
  {
   "cell_type": "code",
   "execution_count": null,
   "metadata": {},
   "outputs": [],
   "source": []
  }
 ],
 "metadata": {
  "kernelspec": {
   "display_name": "Python 3",
   "language": "python",
   "name": "python3"
  },
  "language_info": {
   "codemirror_mode": {
    "name": "ipython",
    "version": 3
   },
   "file_extension": ".py",
   "mimetype": "text/x-python",
   "name": "python",
   "nbconvert_exporter": "python",
   "pygments_lexer": "ipython3",
   "version": "3.6.9"
  }
 },
 "nbformat": 4,
 "nbformat_minor": 2
}
