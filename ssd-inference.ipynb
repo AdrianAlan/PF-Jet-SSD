{
 "cells": [
  {
   "cell_type": "code",
   "execution_count": null,
   "metadata": {},
   "outputs": [],
   "source": [
    "import h5py\n",
    "import numpy as np\n",
    "import os\n",
    "import simplejson as json\n",
    "import sys\n",
    "import torch\n",
    "import torch.backends.cudnn as cudnn\n",
    "import torch.optim as optim\n",
    "import torch.nn as nn\n",
    "import torch.nn.init as init\n",
    "import torch.utils.data as data\n",
    "\n",
    "from torch.autograd import Variable"
   ]
  },
  {
   "cell_type": "code",
   "execution_count": null,
   "metadata": {},
   "outputs": [],
   "source": [
    "%matplotlib inline\n",
    "\n",
    "import matplotlib\n",
    "import matplotlib.pyplot as plt\n",
    "import matplotlib.patches as patches\n",
    "import matplotlib.ticker as tick\n",
    "\n",
    "from matplotlib import cm\n",
    "from matplotlib.colors import SymLogNorm\n",
    "from matplotlib.offsetbox import OffsetImage, AnnotationBbox\n",
    "\n",
    "with open('./data/palette.json') as json_file:\n",
    "    color_palette = json.load(json_file)\n",
    "    \n",
    "plt.style.use('./plots/ssdjet.mplstyle')"
   ]
  },
  {
   "cell_type": "code",
   "execution_count": null,
   "metadata": {},
   "outputs": [],
   "source": [
    "module_path = os.path.abspath(os.path.join('..'))\n",
    "\n",
    "if module_path not in sys.path:\n",
    "    sys.path.append(module_path)\n",
    "\n",
    "from ssd.generator import CalorimeterJetDataset\n",
    "from ssd.layers.modules import MultiBoxLoss\n",
    "from ssd.net import build_ssd"
   ]
  },
  {
   "cell_type": "code",
   "execution_count": null,
   "metadata": {
    "scrolled": false
   },
   "outputs": [],
   "source": [
    "if torch.cuda.is_available():\n",
    "    torch.set_default_tensor_type('torch.cuda.FloatTensor')\n",
    "\n",
    "net = build_ssd(phase='test', num_classes=2, qtype='full')\n",
    "net.load_weights('./models/ssd-jet-one-class-full-2.pth')\n",
    "net.eval()"
   ]
  },
  {
   "cell_type": "code",
   "execution_count": null,
   "metadata": {},
   "outputs": [],
   "source": [
    "DATA_SOURCE = '/mnt/home/apol/ceph/fast-three'\n",
    "CLASSES = ['b', 'h', 'W', 't', 'q']"
   ]
  },
  {
   "cell_type": "code",
   "execution_count": null,
   "metadata": {},
   "outputs": [],
   "source": [
    "def plot_calo_image(pixels, gt=[], predictions=[], save_name=None):\n",
    "\n",
    "    fig = plt.figure(figsize=(16, 6))\n",
    "\n",
    "    height, width, offset = pixels.shape[1], pixels.shape[2], 15\n",
    "\n",
    "    for index, calorimeter in enumerate(pixels):\n",
    "        ax = plt.subplot(1, 2, index+1)\n",
    "        ax = plt.gca()\n",
    "        ax.set_xlim([-offset, width+offset])\n",
    "        ax.set_xlabel('$\\eta$', horizontalalignment='right', x=1.0)\n",
    "        ax.set_ylim([-offset, height+offset])\n",
    "        ax.set_ylabel('$\\phi [\\degree$]', horizontalalignment='right', y=1.0)\n",
    "        ax.spines['left'].set_smart_bounds(True)\n",
    "        ax.spines['bottom'].set_smart_bounds(True)\n",
    "        \n",
    "        # Show energy deposits\n",
    "        im = ax.imshow(calorimeter,\n",
    "                       norm=SymLogNorm(linthresh=0.03,\n",
    "                                       vmin=0,\n",
    "                                       vmax=pixels.max()),\n",
    "                       interpolation='nearest')\n",
    "\n",
    "        # Add scale\n",
    "        cbar = fig.colorbar(im, extend='max')\n",
    "        cbar.set_label('$E_T$ [GeV]',\n",
    "                       rotation=90,\n",
    "                       horizontalalignment='right',\n",
    "                       y=1.0)\n",
    "    \n",
    "        # Add ground truth\n",
    "        for box in gt:\n",
    "            xmin, ymin, xmax, ymax = box[0]*width, box[1]*height, box[2]*width, box[3]*height\n",
    "            jet = patches.Rectangle((xmin, ymin),\n",
    "                                    xmax-xmin,\n",
    "                                    ymax-ymin,\n",
    "                                    linewidth=1.2,\n",
    "                                    alpha=0.5,\n",
    "                                    edgecolor=color_palette['red']['shade_500'],\n",
    "                                    facecolor='none')\n",
    "            ax.add_patch(jet)\n",
    "            ax.legend(['Ground Truth'], loc='lower left', bbox_to_anchor=(0., -0.14))\n",
    "            \n",
    "            ax.text(xmin, ymin,\n",
    "                    '{0}'.format(CLASSES[int(box[4])]),\n",
    "                    weight='bold',\n",
    "                    color=color_palette['grey']['shade_100'],\n",
    "                    bbox={'facecolor': color_palette['red']['shade_900'],\n",
    "                          'alpha': 1.0})\n",
    "\n",
    "        # Draw the predicted boxes\n",
    "        for box in predictions:\n",
    "            xmin, ymin, xmax, ymax = box[2]*width, box[3]*height, box[4]*width, box[5]*height\n",
    "            jet = plt.Rectangle((xmin, ymin),\n",
    "                                xmax-xmin,\n",
    "                                ymax-ymin,\n",
    "                                linewidth=1.2,\n",
    "                                alpha=0.5,\n",
    "                                edgecolor=color_palette['grey']['shade_500'],\n",
    "                                facecolor='none')\n",
    "            ax.add_patch(jet)\n",
    "            ax.legend(['Prediction'], loc='lower left', bbox_to_anchor=(0., -0.14))\n",
    "            ax.text(xmin, ymin,\n",
    "                    '{0}: {1:.2f}'.format(CLASSES[int(box[0])], box[1]),\n",
    "                    weight='bold',\n",
    "                    color=color_palette['grey']['shade_100'],\n",
    "                    bbox={'facecolor': color_palette['grey']['shade_900'],\n",
    "                          'alpha': 1.0})\n",
    "\n",
    "        # Add CMS tag\n",
    "        ax.text(0, 1, 'CMS',\n",
    "                weight='bold',\n",
    "                transform=ax.transAxes,\n",
    "                color=color_palette['grey']['shade_900'],\n",
    "                fontsize=14)\n",
    "\n",
    "        # Add title\n",
    "        if index:\n",
    "            ax.text(0.85, 1, 'HCAL',\n",
    "                    transform=ax.transAxes,\n",
    "                    color=color_palette['grey']['shade_900'],\n",
    "                    fontsize=14)\n",
    "        else:\n",
    "            ax.text(0.85, 1, 'ECAL',\n",
    "                    transform=ax.transAxes,\n",
    "                    color=color_palette['grey']['shade_900'],\n",
    "                    fontsize=14)\n",
    "\n",
    "        logo = OffsetImage(plt.imread('plots/hls4mllogo.jpg', format='jpg'), zoom=0.08)\n",
    "        ab = AnnotationBbox(logo, [0, 0], xybox=(65, 381), frameon=False)\n",
    "        ax.add_artist(ab)\n",
    "\n",
    "    if save_name:\n",
    "        fig.savefig(save_name)\n",
    "\n",
    "    # Show plot\n",
    "    plt.show();"
   ]
  },
  {
   "cell_type": "code",
   "execution_count": null,
   "metadata": {},
   "outputs": [],
   "source": [
    "train_dataset_path = '%s/RSGraviton_NARROW_1.h5' % DATA_SOURCE\n",
    "h5_train = h5py.File(train_dataset_path, 'r')\n",
    "train_dataset = CalorimeterJetDataset(hdf5_dataset=h5_train)\n",
    "train_loader = torch.utils.data.DataLoader(train_dataset,\n",
    "                                           batch_size=1,\n",
    "                                           shuffle=False,\n",
    "                                           num_workers=1)"
   ]
  },
  {
   "cell_type": "code",
   "execution_count": null,
   "metadata": {},
   "outputs": [],
   "source": [
    "batch_iterator = iter(train_loader)\n",
    "images, targets = next(batch_iterator)\n",
    "plot_calo_image(images.cpu().numpy()[0], targets.cpu().numpy()[0], save_name='./plots/ssd-inference-example-gt')"
   ]
  },
  {
   "cell_type": "code",
   "execution_count": null,
   "metadata": {},
   "outputs": [],
   "source": [
    "if torch.cuda.is_available():\n",
    "    y = net(images.clone().detach().cuda())\n",
    "else:\n",
    "    y = net(images)\n",
    "\n",
    "detections = y.data\n",
    "detections = detections.cpu().numpy()"
   ]
  },
  {
   "cell_type": "code",
   "execution_count": null,
   "metadata": {
    "scrolled": true
   },
   "outputs": [],
   "source": [
    "coords = []\n",
    "for i in range(detections.shape[1]):\n",
    "    j = 0\n",
    "    while detections[0,i,j,0] >= 0.1:\n",
    "        coords.append(np.append(i, detections[0,i,j,:]))\n",
    "        j+=1\n",
    "\n",
    "plot_calo_image(images.numpy()[0], predictions=coords, save_name='./plots/ssd-inference-example-pred')"
   ]
  },
  {
   "cell_type": "code",
   "execution_count": null,
   "metadata": {},
   "outputs": [],
   "source": []
  }
 ],
 "metadata": {
  "anaconda-cloud": {},
  "kernelspec": {
   "display_name": "Python 3",
   "language": "python",
   "name": "python3"
  },
  "language_info": {
   "codemirror_mode": {
    "name": "ipython",
    "version": 3
   },
   "file_extension": ".py",
   "mimetype": "text/x-python",
   "name": "python",
   "nbconvert_exporter": "python",
   "pygments_lexer": "ipython3",
   "version": "3.7.3"
  }
 },
 "nbformat": 4,
 "nbformat_minor": 1
}
